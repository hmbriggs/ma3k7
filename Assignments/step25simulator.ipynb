{
 "cells": [
  {
   "cell_type": "code",
   "execution_count": null,
   "id": "7cccc622",
   "metadata": {},
   "outputs": [],
   "source": [
    "import numpy as np\n",
    "rng = np.random.default_rng()\n",
    "\n",
    "count = 0\n",
    "rep = 1000000\n",
    "\n",
    "for i in range(0,rep):\n",
    "    path = [1]\n",
    "\n",
    "\n",
    "    for i in range(0,24):\n",
    "        coin = rng.integers(1,3)\n",
    "        path.append(path[i]+coin)\n",
    "\n",
    "    for i in path:\n",
    "        if i ==25:\n",
    "            count = count+1\n",
    "\n",
    "print(\"The number of times step number 25 was landed on was \"+str(count)+\" out of \"+str(rep)+\" trials.\")\n",
    "print(\"The experimental probability of landing on step number 25 is \"+str(count/rep))"
   ]
  },
  {
   "cell_type": "code",
   "execution_count": null,
   "id": "4f3e0302",
   "metadata": {},
   "outputs": [],
   "source": []
  }
 ],
 "metadata": {
  "kernelspec": {
   "display_name": "Python 3 (ipykernel)",
   "language": "python",
   "name": "python3"
  },
  "language_info": {
   "codemirror_mode": {
    "name": "ipython",
    "version": 3
   },
   "file_extension": ".py",
   "mimetype": "text/x-python",
   "name": "python",
   "nbconvert_exporter": "python",
   "pygments_lexer": "ipython3",
   "version": "3.9.12"
  }
 },
 "nbformat": 4,
 "nbformat_minor": 5
}
