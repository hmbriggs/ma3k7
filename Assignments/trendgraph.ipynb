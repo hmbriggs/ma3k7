{
 "cells": [
  {
   "cell_type": "code",
   "execution_count": null,
   "id": "091ddf3d",
   "metadata": {},
   "outputs": [],
   "source": [
    "import numpy as np\n",
    "import matplotlib.pyplot as plt\n",
    "rng = np.random.default_rng()\n",
    "%matplotlib osx\n",
    "\n",
    "n = 50\n",
    "x = np.arange(1,n,1)\n",
    "y = 2/3 +(1/3)*((-1/2)**(x-1))\n",
    "plt.plot(x,y, label = \"Theoretical Prob\")\n",
    "\n",
    "p = []\n",
    "for m in range(1,n):\n",
    "    count = 0\n",
    "    rep = 10000\n",
    "\n",
    "    for i in range(0,rep):\n",
    "        path = [1]\n",
    "\n",
    "\n",
    "        for i in range(0,m-1):\n",
    "            coin = rng.integers(1,3)\n",
    "            path.append(path[i]+coin)\n",
    "\n",
    "        for i in path:\n",
    "            if i ==m:\n",
    "                count = count+1\n",
    "        \n",
    "    p.append(count/rep)\n",
    "\n",
    "plt.plot(x,p, \"red\", label = \"Experimental Prob\")\n",
    "\n",
    "plt.xlabel(\"Step Number\")\n",
    "plt.ylabel(\"Probability\")\n",
    "plt.legend()\n",
    "plt.show()"
   ]
  },
  {
   "cell_type": "code",
   "execution_count": null,
   "id": "ae68f1e5",
   "metadata": {},
   "outputs": [],
   "source": []
  }
 ],
 "metadata": {
  "kernelspec": {
   "display_name": "Python 3 (ipykernel)",
   "language": "python",
   "name": "python3"
  },
  "language_info": {
   "codemirror_mode": {
    "name": "ipython",
    "version": 3
   },
   "file_extension": ".py",
   "mimetype": "text/x-python",
   "name": "python",
   "nbconvert_exporter": "python",
   "pygments_lexer": "ipython3",
   "version": "3.9.12"
  }
 },
 "nbformat": 4,
 "nbformat_minor": 5
}
