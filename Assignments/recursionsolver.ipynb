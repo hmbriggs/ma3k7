{
 "cells": [
  {
   "cell_type": "code",
   "execution_count": null,
   "id": "985b8f1b",
   "metadata": {},
   "outputs": [],
   "source": [
    "import numpy as np\n",
    "import sympy as sp\n",
    "from sympy.abc import m\n",
    "from scipy import linalg as LA\n",
    "import matplotlib.pyplot as plt\n",
    "\n",
    "n=25 ## Step Number \n",
    "\n",
    "M = sp.solve(m**2-0.5*m-0.5, m) ## Characteristic Polynomial\n",
    "\n",
    "A= np.array([[0.5,0.5],[1,0]]) \n",
    "lam, P = LA.eig(A) ## Eigenvalues\n",
    "\n",
    "A = np.array([[lam[0], lam[1]],[1,1]])\n",
    "b = np.array([1, 0])\n",
    "C = LA.solve(A,b) ## Coefficients\n",
    "\n",
    "print(\"C1 = \"+str(float(C[0]))+\" and C2 = \"+str(float(C[1])))\n",
    "print(\"The probability of landing on step number 25 is \"+str(float(C[0]*lam[0]**n + C[1]*lam[1]**n)))"
   ]
  },
  {
   "cell_type": "code",
   "execution_count": null,
   "id": "4cb6a773",
   "metadata": {},
   "outputs": [],
   "source": []
  }
 ],
 "metadata": {
  "kernelspec": {
   "display_name": "Python 3 (ipykernel)",
   "language": "python",
   "name": "python3"
  },
  "language_info": {
   "codemirror_mode": {
    "name": "ipython",
    "version": 3
   },
   "file_extension": ".py",
   "mimetype": "text/x-python",
   "name": "python",
   "nbconvert_exporter": "python",
   "pygments_lexer": "ipython3",
   "version": "3.9.12"
  }
 },
 "nbformat": 4,
 "nbformat_minor": 5
}
