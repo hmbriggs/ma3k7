{
 "cells": [
  {
   "cell_type": "code",
   "execution_count": null,
   "id": "4645beca",
   "metadata": {},
   "outputs": [],
   "source": [
    "import numpy as np\n",
    "import matplotlib.pyplot as plt\n",
    "rng = np.random.default_rng()\n",
    "%matplotlib osx\n",
    "\n",
    "n=2024  ## Number of piece of paper in the hat\n",
    "t=int(1e3)  ## Number of trials\n",
    "\n",
    "results = []\n",
    "for i in range(0,int(t)):\n",
    "    papers = [i+1 for i in range(0,n)]\n",
    "    for i in range(0,n-1):\n",
    "        first_index = rng.integers(len(papers))\n",
    "        first = papers[first_index]\n",
    "        papers.remove(first)\n",
    "        second_index = rng.integers(len(papers))\n",
    "        second = papers[second_index]\n",
    "        papers.remove(second)\n",
    "\n",
    "        result = abs(first-second)\n",
    "        papers.append(result)\n",
    "        \n",
    "    results.append(result)\n",
    "\n",
    "plt.hist(results,bins = np.arange(0,n+2)-0.5,density=True,color = \"skyblue\",ec = \"blue\")\n",
    "plt.xticks(np.arange(0,n+2,1))\n",
    "plt.show()"
   ]
  },
  {
   "cell_type": "code",
   "execution_count": null,
   "id": "43ca1632",
   "metadata": {},
   "outputs": [],
   "source": []
  }
 ],
 "metadata": {
  "kernelspec": {
   "display_name": "Python 3 (ipykernel)",
   "language": "python",
   "name": "python3"
  },
  "language_info": {
   "codemirror_mode": {
    "name": "ipython",
    "version": 3
   },
   "file_extension": ".py",
   "mimetype": "text/x-python",
   "name": "python",
   "nbconvert_exporter": "python",
   "pygments_lexer": "ipython3",
   "version": "3.9.12"
  }
 },
 "nbformat": 4,
 "nbformat_minor": 5
}
