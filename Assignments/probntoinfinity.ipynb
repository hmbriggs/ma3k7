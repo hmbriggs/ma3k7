{
 "cells": [
  {
   "cell_type": "code",
   "execution_count": 4,
   "id": "dfc4bbfb",
   "metadata": {},
   "outputs": [],
   "source": [
    "import matplotlib.pyplot as plt\n",
    "import numpy as np\n",
    "%matplotlib osx\n",
    "\n",
    "n = 1000\n",
    "t1 = np.arange(0,1,0.01)\n",
    "t2 = np.arange(1,0,-0.01)\n",
    "\n",
    "sqrt = np.sqrt((t1**2)+(4*t2))\n",
    "m1 = t1+sqrt\n",
    "m2 = t1-sqrt\n",
    "\n",
    "num = (2**(-n))*((m1**n)-(m2**n))\n",
    "\n",
    "pn = num/sqrt\n",
    "\n",
    "\n",
    "plt.plot(t1,pn)\n",
    "plt.grid('on')\n",
    "plt.xlabel(\"value of $t_1$\")\n",
    "plt.ylabel(\"$P_{1000}$\")\n",
    "plt.show()"
   ]
  },
  {
   "cell_type": "code",
   "execution_count": null,
   "id": "04eb0974",
   "metadata": {},
   "outputs": [],
   "source": []
  }
 ],
 "metadata": {
  "kernelspec": {
   "display_name": "Python 3 (ipykernel)",
   "language": "python",
   "name": "python3"
  },
  "language_info": {
   "codemirror_mode": {
    "name": "ipython",
    "version": 3
   },
   "file_extension": ".py",
   "mimetype": "text/x-python",
   "name": "python",
   "nbconvert_exporter": "python",
   "pygments_lexer": "ipython3",
   "version": "3.9.12"
  }
 },
 "nbformat": 4,
 "nbformat_minor": 5
}
