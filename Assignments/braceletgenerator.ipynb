{
 "cells": [
  {
   "cell_type": "code",
   "execution_count": null,
   "id": "aa2cd65b",
   "metadata": {},
   "outputs": [],
   "source": [
    "a = 1\n",
    "b = 5\n",
    "bracelet = []\n",
    "repeat_located = False\n",
    "## Generating an array containing the bracelet\n",
    "bracelet.append(a)\n",
    "bracelet.append(b)\n",
    "for i in range(0,100):\n",
    "    bracelet.append((int(bracelet[i])+int(bracelet[i+1])) % 10)\n",
    "\n",
    "## Calculating where the bracelet repeats the first time    \n",
    "j = 2\n",
    "while repeat_located == False and j<=100:\n",
    "    if bracelet[j] == a and bracelet[j+1] == b:\n",
    "        repeat_located = True\n",
    "        length = j\n",
    "    j = j+1\n",
    "if repeat_located == False:\n",
    "    print(\"No repeat found.\")\n",
    "else:\n",
    "    print(\"(\"+str(a)+\",\"+str(b)+\")-bracelet has length \"+ str(j-1) +\".\")\n",
    "    print(\"\")\n",
    "    for i in range(0,j-2):\n",
    "        print(str(bracelet[i])+ \" -> \",end=\"\")\n",
    "    print(str(bracelet[j-2]))"
   ]
  }
 ],
 "metadata": {
  "kernelspec": {
   "display_name": "Python 3 (ipykernel)",
   "language": "python",
   "name": "python3"
  },
  "language_info": {
   "codemirror_mode": {
    "name": "ipython",
    "version": 3
   },
   "file_extension": ".py",
   "mimetype": "text/x-python",
   "name": "python",
   "nbconvert_exporter": "python",
   "pygments_lexer": "ipython3",
   "version": "3.9.12"
  }
 },
 "nbformat": 4,
 "nbformat_minor": 5
}
