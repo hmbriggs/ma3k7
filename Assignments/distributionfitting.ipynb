{
 "cells": [
  {
   "cell_type": "code",
   "execution_count": null,
   "id": "51ea6571",
   "metadata": {},
   "outputs": [],
   "source": [
    "import numpy as np\n",
    "import matplotlib.pyplot as plt\n",
    "from scipy.stats import skewnorm, norm\n",
    "rng = np.random.default_rng()\n",
    "%matplotlib osx\n",
    "\n",
    "\n",
    "n=100\n",
    "t=int(1e4)\n",
    "results = []\n",
    "for i in range(0,int(t)):\n",
    "    papers = [i+1 for i in range(0,n)]\n",
    "    for i in range(0,n-1):\n",
    "        first_index = rng.integers(len(papers))\n",
    "        first = papers[first_index]\n",
    "        papers.remove(first)\n",
    "        second_index = rng.integers(len(papers))\n",
    "        second = papers[second_index]\n",
    "        papers.remove(second)\n",
    "\n",
    "        result = abs(first-second)\n",
    "        papers.append(result)\n",
    "        \n",
    "    results.append(result)\n",
    "\n",
    "    \n",
    "### Fitting & plotting a skew norm distribution in GREEN\n",
    "a,loc,scale = skewnorm.fit(results)\n",
    "x = np.arange(0,n,1)\n",
    "plt.plot(x,skewnorm.pdf(x,a,loc,scale), color = 'green')\n",
    "\n",
    "### Plotting an exponential distribution in RED\n",
    "z = np.arange(0,n,2)\n",
    "y = 0.0870*(np.e**(-0.0870*z))\n",
    "plt.plot(z,y,color='red')\n",
    "\n",
    "### Plotting the histogram in BLUE\n",
    "plt.hist(results,bins = np.arange(0,n+2)-0.5,density=True,color = \"skyblue\",ec = \"blue\")\n",
    "plt.xticks(np.arange(0,n+2,10))\n",
    "plt.show()"
   ]
  },
  {
   "cell_type": "code",
   "execution_count": null,
   "id": "71c69a6c",
   "metadata": {},
   "outputs": [],
   "source": []
  }
 ],
 "metadata": {
  "kernelspec": {
   "display_name": "Python 3 (ipykernel)",
   "language": "python",
   "name": "python3"
  },
  "language_info": {
   "codemirror_mode": {
    "name": "ipython",
    "version": 3
   },
   "file_extension": ".py",
   "mimetype": "text/x-python",
   "name": "python",
   "nbconvert_exporter": "python",
   "pygments_lexer": "ipython3",
   "version": "3.9.12"
  }
 },
 "nbformat": 4,
 "nbformat_minor": 5
}
