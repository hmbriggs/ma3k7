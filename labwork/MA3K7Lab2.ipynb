{
 "cells": [
  {
   "cell_type": "code",
   "execution_count": 1,
   "id": "801aacd2",
   "metadata": {},
   "outputs": [],
   "source": [
    "import numpy as np\n",
    "import matplotlib.pyplot as plt"
   ]
  },
  {
   "cell_type": "code",
   "execution_count": 58,
   "id": "5b6b04b0",
   "metadata": {},
   "outputs": [
    {
     "name": "stdout",
     "output_type": "stream",
     "text": [
      "[ 1.          1.5         1.83333333 ... 12.09012613 12.09013613\n",
      " 12.09014613]\n"
     ]
    },
    {
     "data": {
      "image/png": "[encoded data removed]",
      "text/plain": [
       "<Figure size 432x288 with 1 Axes>"
      ]
     },
     "metadata": {
      "needs_background": "light"
     },
     "output_type": "display_data"
    }
   ],
   "source": [
    "Nmax = 1e5\n",
    "n = np.arange(1,Nmax+1)\n",
    "hplot = np.zeros_like(n,dtype=float)\n",
    "harmo = 0\n",
    "\n",
    "for N in np.arange(0,int(Nmax)):\n",
    "    harmo = harmo + 1/n[N]\n",
    "    hplot[N] = harmo\n",
    "\n",
    "print(hplot)\n",
    "\n",
    "plt.semilogx(n,hplot,label=\"harmonic series\")\n",
    "plt.semilogx(n,np.log(n),'--',label = 'ln(n)')\n",
    "plt.grid('on')\n",
    "plt.legend()\n",
    "plt.show()"
   ]
  },
  {
   "cell_type": "code",
   "execution_count": 60,
   "id": "8cc7ae25",
   "metadata": {},
   "outputs": [
    {
     "name": "stdout",
     "output_type": "stream",
     "text": [
      "                                ■\n",
      "                               ■ ■\n",
      "                              ■ □ ■\n",
      "                             ■ ■ ■ ■\n",
      "                            ■ □ □ □ ■\n",
      "                           ■ ■ □ □ ■ ■\n",
      "                          ■ □ ■ □ ■ □ ■\n",
      "                         ■ ■ ■ ■ ■ ■ ■ ■\n",
      "                        ■ □ □ □ □ □ □ □ ■\n",
      "                       ■ ■ □ □ □ □ □ □ ■ ■\n",
      "                      ■ □ ■ □ □ □ □ □ ■ □ ■\n",
      "                     ■ ■ ■ ■ □ □ □ □ ■ ■ ■ ■\n",
      "                    ■ □ □ □ ■ □ □ □ ■ □ □ □ ■\n",
      "                   ■ ■ □ □ ■ ■ □ □ ■ ■ □ □ ■ ■\n",
      "                  ■ □ ■ □ ■ □ ■ □ ■ □ ■ □ ■ □ ■\n",
      "                 ■ ■ ■ ■ ■ ■ ■ ■ ■ ■ ■ ■ ■ ■ ■ ■\n",
      "                ■ □ □ □ □ □ □ □ □ □ □ □ □ □ □ □ ■\n",
      "               ■ ■ □ □ □ □ □ □ □ □ □ □ □ □ □ □ ■ ■\n",
      "              ■ □ ■ □ □ □ □ □ □ □ □ □ □ □ □ □ ■ □ ■\n",
      "             ■ ■ ■ ■ □ □ □ □ □ □ □ □ □ □ □ □ ■ ■ ■ ■\n",
      "            ■ □ □ □ ■ □ □ □ □ □ □ □ □ □ □ □ ■ □ □ □ ■\n",
      "           ■ ■ □ □ ■ ■ □ □ □ □ □ □ □ □ □ □ ■ ■ □ □ ■ ■\n",
      "          ■ □ ■ □ ■ □ ■ □ □ □ □ □ □ □ □ □ ■ □ ■ □ ■ □ ■\n",
      "         ■ ■ ■ ■ ■ ■ ■ ■ □ □ □ □ □ □ □ □ ■ ■ ■ ■ ■ ■ ■ ■\n",
      "        ■ □ □ □ □ □ □ □ ■ □ □ □ □ □ □ □ ■ □ □ □ □ □ □ □ ■\n",
      "       ■ ■ □ □ □ □ □ □ ■ ■ □ □ □ □ □ □ ■ ■ □ □ □ □ □ □ ■ ■\n",
      "      ■ □ ■ □ □ □ □ □ ■ □ ■ □ □ □ □ □ ■ □ ■ □ □ □ □ □ ■ □ ■\n",
      "     ■ ■ ■ ■ □ □ □ □ ■ ■ ■ ■ □ □ □ □ ■ ■ ■ ■ □ □ □ □ ■ ■ ■ ■\n",
      "    ■ □ □ □ ■ □ □ □ ■ □ □ □ ■ □ □ □ ■ □ □ □ ■ □ □ □ ■ □ □ □ ■\n",
      "   ■ ■ □ □ ■ ■ □ □ ■ ■ □ □ ■ ■ □ □ ■ ■ □ □ ■ ■ □ □ ■ ■ □ □ ■ ■\n",
      "  ■ □ ■ □ ■ □ ■ □ ■ □ ■ □ ■ □ ■ □ ■ □ ■ □ ■ □ ■ □ ■ □ ■ □ ■ □ ■\n"
     ]
    }
   ],
   "source": [
    "n = 30\n",
    "mod = 2\n",
    "\n",
    "def binom(n,k):\n",
    "    a = 1\n",
    "    for i in range(k):\n",
    "        a = a*(n-i)//(i+1)        \n",
    "    return a\n",
    "\n",
    "def symb(u):\n",
    "    if u==0:\n",
    "        return \"\\u25A1\"\n",
    "    else:\n",
    "        return \"\\u25A0\"\n",
    "\n",
    "for i in range(n+1):\n",
    "    for j in range(0, n-i+1):\n",
    "        print(' ', end='') \n",
    "    for j in range(i+1):\n",
    "        u = binom(i,j) % mod\n",
    "        s = symb(u)\n",
    "        print(' ', s, sep='', end='') \n",
    "    print('')"
   ]
  },
  {
   "cell_type": "code",
   "execution_count": 85,
   "id": "f8c507d9",
   "metadata": {},
   "outputs": [
    {
     "name": "stdout",
     "output_type": "stream",
     "text": [
      "                                                              \u001b[32m1\n",
      "                                                             \u001b[32m1 \u001b[32m1\n",
      "                                                            \u001b[32m1 \u001b[34m2 \u001b[32m1\n",
      "                                                           \u001b[32m1 \u001b[33m3 \u001b[33m3 \u001b[32m1\n",
      "                                                          \u001b[32m1 \u001b[31m0 \u001b[34m2 \u001b[31m0 \u001b[32m1\n",
      "                                                         \u001b[32m1 \u001b[32m1 \u001b[34m2 \u001b[34m2 \u001b[32m1 \u001b[32m1\n",
      "                                                        \u001b[32m1 \u001b[34m2 \u001b[33m3 \u001b[31m0 \u001b[33m3 \u001b[34m2 \u001b[32m1\n",
      "                                                       \u001b[32m1 \u001b[33m3 \u001b[32m1 \u001b[33m3 \u001b[33m3 \u001b[32m1 \u001b[33m3 \u001b[32m1\n",
      "                                                      \u001b[32m1 \u001b[31m0 \u001b[31m0 \u001b[31m0 \u001b[34m2 \u001b[31m0 \u001b[31m0 \u001b[31m0 \u001b[32m1\n",
      "                                                     \u001b[32m1 \u001b[32m1 \u001b[31m0 \u001b[31m0 \u001b[34m2 \u001b[34m2 \u001b[31m0 \u001b[31m0 \u001b[32m1 \u001b[32m1\n",
      "                                                    \u001b[32m1 \u001b[34m2 \u001b[32m1 \u001b[31m0 \u001b[34m2 \u001b[31m0 \u001b[34m2 \u001b[31m0 \u001b[32m1 \u001b[34m2 \u001b[32m1\n",
      "                                                   \u001b[32m1 \u001b[33m3 \u001b[33m3 \u001b[32m1 \u001b[34m2 \u001b[34m2 \u001b[34m2 \u001b[34m2 \u001b[32m1 \u001b[33m3 \u001b[33m3 \u001b[32m1\n",
      "                                                  \u001b[32m1 \u001b[31m0 \u001b[34m2 \u001b[31m0 \u001b[33m3 \u001b[31m0 \u001b[31m0 \u001b[31m0 \u001b[33m3 \u001b[31m0 \u001b[34m2 \u001b[31m0 \u001b[32m1\n",
      "                                                 \u001b[32m1 \u001b[32m1 \u001b[34m2 \u001b[34m2 \u001b[33m3 \u001b[33m3 \u001b[31m0 \u001b[31m0 \u001b[33m3 \u001b[33m3 \u001b[34m2 \u001b[34m2 \u001b[32m1 \u001b[32m1\n",
      "                                                \u001b[32m1 \u001b[34m2 \u001b[33m3 \u001b[31m0 \u001b[32m1 \u001b[34m2 \u001b[33m3 \u001b[31m0 \u001b[33m3 \u001b[34m2 \u001b[32m1 \u001b[31m0 \u001b[33m3 \u001b[34m2 \u001b[32m1\n",
      "                                               \u001b[32m1 \u001b[33m3 \u001b[32m1 \u001b[33m3 \u001b[32m1 \u001b[33m3 \u001b[32m1 \u001b[33m3 \u001b[33m3 \u001b[32m1 \u001b[33m3 \u001b[32m1 \u001b[33m3 \u001b[32m1 \u001b[33m3 \u001b[32m1\n",
      "                                              \u001b[32m1 \u001b[31m0 \u001b[31m0 \u001b[31m0 \u001b[31m0 \u001b[31m0 \u001b[31m0 \u001b[31m0 \u001b[34m2 \u001b[31m0 \u001b[31m0 \u001b[31m0 \u001b[31m0 \u001b[31m0 \u001b[31m0 \u001b[31m0 \u001b[32m1\n",
      "                                             \u001b[32m1 \u001b[32m1 \u001b[31m0 \u001b[31m0 \u001b[31m0 \u001b[31m0 \u001b[31m0 \u001b[31m0 \u001b[34m2 \u001b[34m2 \u001b[31m0 \u001b[31m0 \u001b[31m0 \u001b[31m0 \u001b[31m0 \u001b[31m0 \u001b[32m1 \u001b[32m1\n",
      "                                            \u001b[32m1 \u001b[34m2 \u001b[32m1 \u001b[31m0 \u001b[31m0 \u001b[31m0 \u001b[31m0 \u001b[31m0 \u001b[34m2 \u001b[31m0 \u001b[34m2 \u001b[31m0 \u001b[31m0 \u001b[31m0 \u001b[31m0 \u001b[31m0 \u001b[32m1 \u001b[34m2 \u001b[32m1\n",
      "                                           \u001b[32m1 \u001b[33m3 \u001b[33m3 \u001b[32m1 \u001b[31m0 \u001b[31m0 \u001b[31m0 \u001b[31m0 \u001b[34m2 \u001b[34m2 \u001b[34m2 \u001b[34m2 \u001b[31m0 \u001b[31m0 \u001b[31m0 \u001b[31m0 \u001b[32m1 \u001b[33m3 \u001b[33m3 \u001b[32m1\n",
      "                                          \u001b[32m1 \u001b[31m0 \u001b[34m2 \u001b[31m0 \u001b[32m1 \u001b[31m0 \u001b[31m0 \u001b[31m0 \u001b[34m2 \u001b[31m0 \u001b[31m0 \u001b[31m0 \u001b[34m2 \u001b[31m0 \u001b[31m0 \u001b[31m0 \u001b[32m1 \u001b[31m0 \u001b[34m2 \u001b[31m0 \u001b[32m1\n",
      "                                         \u001b[32m1 \u001b[32m1 \u001b[34m2 \u001b[34m2 \u001b[32m1 \u001b[32m1 \u001b[31m0 \u001b[31m0 \u001b[34m2 \u001b[34m2 \u001b[31m0 \u001b[31m0 \u001b[34m2 \u001b[34m2 \u001b[31m0 \u001b[31m0 \u001b[32m1 \u001b[32m1 \u001b[34m2 \u001b[34m2 \u001b[32m1 \u001b[32m1\n",
      "                                        \u001b[32m1 \u001b[34m2 \u001b[33m3 \u001b[31m0 \u001b[33m3 \u001b[34m2 \u001b[32m1 \u001b[31m0 \u001b[34m2 \u001b[31m0 \u001b[34m2 \u001b[31m0 \u001b[34m2 \u001b[31m0 \u001b[34m2 \u001b[31m0 \u001b[32m1 \u001b[34m2 \u001b[33m3 \u001b[31m0 \u001b[33m3 \u001b[34m2 \u001b[32m1\n",
      "                                       \u001b[32m1 \u001b[33m3 \u001b[32m1 \u001b[33m3 \u001b[33m3 \u001b[32m1 \u001b[33m3 \u001b[32m1 \u001b[34m2 \u001b[34m2 \u001b[34m2 \u001b[34m2 \u001b[34m2 \u001b[34m2 \u001b[34m2 \u001b[34m2 \u001b[32m1 \u001b[33m3 \u001b[32m1 \u001b[33m3 \u001b[33m3 \u001b[32m1 \u001b[33m3 \u001b[32m1\n",
      "                                      \u001b[32m1 \u001b[31m0 \u001b[31m0 \u001b[31m0 \u001b[34m2 \u001b[31m0 \u001b[31m0 \u001b[31m0 \u001b[33m3 \u001b[31m0 \u001b[31m0 \u001b[31m0 \u001b[31m0 \u001b[31m0 \u001b[31m0 \u001b[31m0 \u001b[33m3 \u001b[31m0 \u001b[31m0 \u001b[31m0 \u001b[34m2 \u001b[31m0 \u001b[31m0 \u001b[31m0 \u001b[32m1\n",
      "                                     \u001b[32m1 \u001b[32m1 \u001b[31m0 \u001b[31m0 \u001b[34m2 \u001b[34m2 \u001b[31m0 \u001b[31m0 \u001b[33m3 \u001b[33m3 \u001b[31m0 \u001b[31m0 \u001b[31m0 \u001b[31m0 \u001b[31m0 \u001b[31m0 \u001b[33m3 \u001b[33m3 \u001b[31m0 \u001b[31m0 \u001b[34m2 \u001b[34m2 \u001b[31m0 \u001b[31m0 \u001b[32m1 \u001b[32m1\n",
      "                                    \u001b[32m1 \u001b[34m2 \u001b[32m1 \u001b[31m0 \u001b[34m2 \u001b[31m0 \u001b[34m2 \u001b[31m0 \u001b[33m3 \u001b[34m2 \u001b[33m3 \u001b[31m0 \u001b[31m0 \u001b[31m0 \u001b[31m0 \u001b[31m0 \u001b[33m3 \u001b[34m2 \u001b[33m3 \u001b[31m0 \u001b[34m2 \u001b[31m0 \u001b[34m2 \u001b[31m0 \u001b[32m1 \u001b[34m2 \u001b[32m1\n",
      "                                   \u001b[32m1 \u001b[33m3 \u001b[33m3 \u001b[32m1 \u001b[34m2 \u001b[34m2 \u001b[34m2 \u001b[34m2 \u001b[33m3 \u001b[32m1 \u001b[32m1 \u001b[33m3 \u001b[31m0 \u001b[31m0 \u001b[31m0 \u001b[31m0 \u001b[33m3 \u001b[32m1 \u001b[32m1 \u001b[33m3 \u001b[34m2 \u001b[34m2 \u001b[34m2 \u001b[34m2 \u001b[32m1 \u001b[33m3 \u001b[33m3 \u001b[32m1\n",
      "                                  \u001b[32m1 \u001b[31m0 \u001b[34m2 \u001b[31m0 \u001b[33m3 \u001b[31m0 \u001b[31m0 \u001b[31m0 \u001b[32m1 \u001b[31m0 \u001b[34m2 \u001b[31m0 \u001b[33m3 \u001b[31m0 \u001b[31m0 \u001b[31m0 \u001b[33m3 \u001b[31m0 \u001b[34m2 \u001b[31m0 \u001b[32m1 \u001b[31m0 \u001b[31m0 \u001b[31m0 \u001b[33m3 \u001b[31m0 \u001b[34m2 \u001b[31m0 \u001b[32m1\n",
      "                                 \u001b[32m1 \u001b[32m1 \u001b[34m2 \u001b[34m2 \u001b[33m3 \u001b[33m3 \u001b[31m0 \u001b[31m0 \u001b[32m1 \u001b[32m1 \u001b[34m2 \u001b[34m2 \u001b[33m3 \u001b[33m3 \u001b[31m0 \u001b[31m0 \u001b[33m3 \u001b[33m3 \u001b[34m2 \u001b[34m2 \u001b[32m1 \u001b[32m1 \u001b[31m0 \u001b[31m0 \u001b[33m3 \u001b[33m3 \u001b[34m2 \u001b[34m2 \u001b[32m1 \u001b[32m1\n",
      "                                \u001b[32m1 \u001b[34m2 \u001b[33m3 \u001b[31m0 \u001b[32m1 \u001b[34m2 \u001b[33m3 \u001b[31m0 \u001b[32m1 \u001b[34m2 \u001b[33m3 \u001b[31m0 \u001b[32m1 \u001b[34m2 \u001b[33m3 \u001b[31m0 \u001b[33m3 \u001b[34m2 \u001b[32m1 \u001b[31m0 \u001b[33m3 \u001b[34m2 \u001b[32m1 \u001b[31m0 \u001b[33m3 \u001b[34m2 \u001b[32m1 \u001b[31m0 \u001b[33m3 \u001b[34m2 \u001b[32m1\n",
      "                               \u001b[32m1 \u001b[33m3 \u001b[32m1 \u001b[33m3 \u001b[32m1 \u001b[33m3 \u001b[32m1 \u001b[33m3 \u001b[32m1 \u001b[33m3 \u001b[32m1 \u001b[33m3 \u001b[32m1 \u001b[33m3 \u001b[32m1 \u001b[33m3 \u001b[33m3 \u001b[32m1 \u001b[33m3 \u001b[32m1 \u001b[33m3 \u001b[32m1 \u001b[33m3 \u001b[32m1 \u001b[33m3 \u001b[32m1 \u001b[33m3 \u001b[32m1 \u001b[33m3 \u001b[32m1 \u001b[33m3 \u001b[32m1\n",
      "                              \u001b[32m1 \u001b[31m0 \u001b[31m0 \u001b[31m0 \u001b[31m0 \u001b[31m0 \u001b[31m0 \u001b[31m0 \u001b[31m0 \u001b[31m0 \u001b[31m0 \u001b[31m0 \u001b[31m0 \u001b[31m0 \u001b[31m0 \u001b[31m0 \u001b[34m2 \u001b[31m0 \u001b[31m0 \u001b[31m0 \u001b[31m0 \u001b[31m0 \u001b[31m0 \u001b[31m0 \u001b[31m0 \u001b[31m0 \u001b[31m0 \u001b[31m0 \u001b[31m0 \u001b[31m0 \u001b[31m0 \u001b[31m0 \u001b[32m1\n",
      "                             \u001b[32m1 \u001b[32m1 \u001b[31m0 \u001b[31m0 \u001b[31m0 \u001b[31m0 \u001b[31m0 \u001b[31m0 \u001b[31m0 \u001b[31m0 \u001b[31m0 \u001b[31m0 \u001b[31m0 \u001b[31m0 \u001b[31m0 \u001b[31m0 \u001b[34m2 \u001b[34m2 \u001b[31m0 \u001b[31m0 \u001b[31m0 \u001b[31m0 \u001b[31m0 \u001b[31m0 \u001b[31m0 \u001b[31m0 \u001b[31m0 \u001b[31m0 \u001b[31m0 \u001b[31m0 \u001b[31m0 \u001b[31m0 \u001b[32m1 \u001b[32m1\n",
      "                            \u001b[32m1 \u001b[34m2 \u001b[32m1 \u001b[31m0 \u001b[31m0 \u001b[31m0 \u001b[31m0 \u001b[31m0 \u001b[31m0 \u001b[31m0 \u001b[31m0 \u001b[31m0 \u001b[31m0 \u001b[31m0 \u001b[31m0 \u001b[31m0 \u001b[34m2 \u001b[31m0 \u001b[34m2 \u001b[31m0 \u001b[31m0 \u001b[31m0 \u001b[31m0 \u001b[31m0 \u001b[31m0 \u001b[31m0 \u001b[31m0 \u001b[31m0 \u001b[31m0 \u001b[31m0 \u001b[31m0 \u001b[31m0 \u001b[32m1 \u001b[34m2 \u001b[32m1\n",
      "                           \u001b[32m1 \u001b[33m3 \u001b[33m3 \u001b[32m1 \u001b[31m0 \u001b[31m0 \u001b[31m0 \u001b[31m0 \u001b[31m0 \u001b[31m0 \u001b[31m0 \u001b[31m0 \u001b[31m0 \u001b[31m0 \u001b[31m0 \u001b[31m0 \u001b[34m2 \u001b[34m2 \u001b[34m2 \u001b[34m2 \u001b[31m0 \u001b[31m0 \u001b[31m0 \u001b[31m0 \u001b[31m0 \u001b[31m0 \u001b[31m0 \u001b[31m0 \u001b[31m0 \u001b[31m0 \u001b[31m0 \u001b[31m0 \u001b[32m1 \u001b[33m3 \u001b[33m3 \u001b[32m1\n",
      "                          \u001b[32m1 \u001b[31m0 \u001b[34m2 \u001b[31m0 \u001b[32m1 \u001b[31m0 \u001b[31m0 \u001b[31m0 \u001b[31m0 \u001b[31m0 \u001b[31m0 \u001b[31m0 \u001b[31m0 \u001b[31m0 \u001b[31m0 \u001b[31m0 \u001b[34m2 \u001b[31m0 \u001b[31m0 \u001b[31m0 \u001b[34m2 \u001b[31m0 \u001b[31m0 \u001b[31m0 \u001b[31m0 \u001b[31m0 \u001b[31m0 \u001b[31m0 \u001b[31m0 \u001b[31m0 \u001b[31m0 \u001b[31m0 \u001b[32m1 \u001b[31m0 \u001b[34m2 \u001b[31m0 \u001b[32m1\n",
      "                         \u001b[32m1 \u001b[32m1 \u001b[34m2 \u001b[34m2 \u001b[32m1 \u001b[32m1 \u001b[31m0 \u001b[31m0 \u001b[31m0 \u001b[31m0 \u001b[31m0 \u001b[31m0 \u001b[31m0 \u001b[31m0 \u001b[31m0 \u001b[31m0 \u001b[34m2 \u001b[34m2 \u001b[31m0 \u001b[31m0 \u001b[34m2 \u001b[34m2 \u001b[31m0 \u001b[31m0 \u001b[31m0 \u001b[31m0 \u001b[31m0 \u001b[31m0 \u001b[31m0 \u001b[31m0 \u001b[31m0 \u001b[31m0 \u001b[32m1 \u001b[32m1 \u001b[34m2 \u001b[34m2 \u001b[32m1 \u001b[32m1\n",
      "                        \u001b[32m1 \u001b[34m2 \u001b[33m3 \u001b[31m0 \u001b[33m3 \u001b[34m2 \u001b[32m1 \u001b[31m0 \u001b[31m0 \u001b[31m0 \u001b[31m0 \u001b[31m0 \u001b[31m0 \u001b[31m0 \u001b[31m0 \u001b[31m0 \u001b[34m2 \u001b[31m0 \u001b[34m2 \u001b[31m0 \u001b[34m2 \u001b[31m0 \u001b[34m2 \u001b[31m0 \u001b[31m0 \u001b[31m0 \u001b[31m0 \u001b[31m0 \u001b[31m0 \u001b[31m0 \u001b[31m0 \u001b[31m0 \u001b[32m1 \u001b[34m2 \u001b[33m3 \u001b[31m0 \u001b[33m3 \u001b[34m2 \u001b[32m1\n",
      "                       \u001b[32m1 \u001b[33m3 \u001b[32m1 \u001b[33m3 \u001b[33m3 \u001b[32m1 \u001b[33m3 \u001b[32m1 \u001b[31m0 \u001b[31m0 \u001b[31m0 \u001b[31m0 \u001b[31m0 \u001b[31m0 \u001b[31m0 \u001b[31m0 \u001b[34m2 \u001b[34m2 \u001b[34m2 \u001b[34m2 \u001b[34m2 \u001b[34m2 \u001b[34m2 \u001b[34m2 \u001b[31m0 \u001b[31m0 \u001b[31m0 \u001b[31m0 \u001b[31m0 \u001b[31m0 \u001b[31m0 \u001b[31m0 \u001b[32m1 \u001b[33m3 \u001b[32m1 \u001b[33m3 \u001b[33m3 \u001b[32m1 \u001b[33m3 \u001b[32m1\n",
      "                      \u001b[32m1 \u001b[31m0 \u001b[31m0 \u001b[31m0 \u001b[34m2 \u001b[31m0 \u001b[31m0 \u001b[31m0 \u001b[32m1 \u001b[31m0 \u001b[31m0 \u001b[31m0 \u001b[31m0 \u001b[31m0 \u001b[31m0 \u001b[31m0 \u001b[34m2 \u001b[31m0 \u001b[31m0 \u001b[31m0 \u001b[31m0 \u001b[31m0 \u001b[31m0 \u001b[31m0 \u001b[34m2 \u001b[31m0 \u001b[31m0 \u001b[31m0 \u001b[31m0 \u001b[31m0 \u001b[31m0 \u001b[31m0 \u001b[32m1 \u001b[31m0 \u001b[31m0 \u001b[31m0 \u001b[34m2 \u001b[31m0 \u001b[31m0 \u001b[31m0 \u001b[32m1\n",
      "                     \u001b[32m1 \u001b[32m1 \u001b[31m0 \u001b[31m0 \u001b[34m2 \u001b[34m2 \u001b[31m0 \u001b[31m0 \u001b[32m1 \u001b[32m1 \u001b[31m0 \u001b[31m0 \u001b[31m0 \u001b[31m0 \u001b[31m0 \u001b[31m0 \u001b[34m2 \u001b[34m2 \u001b[31m0 \u001b[31m0 \u001b[31m0 \u001b[31m0 \u001b[31m0 \u001b[31m0 \u001b[34m2 \u001b[34m2 \u001b[31m0 \u001b[31m0 \u001b[31m0 \u001b[31m0 \u001b[31m0 \u001b[31m0 \u001b[32m1 \u001b[32m1 \u001b[31m0 \u001b[31m0 \u001b[34m2 \u001b[34m2 \u001b[31m0 \u001b[31m0 \u001b[32m1 \u001b[32m1\n",
      "                    \u001b[32m1 \u001b[34m2 \u001b[32m1 \u001b[31m0 \u001b[34m2 \u001b[31m0 \u001b[34m2 \u001b[31m0 \u001b[32m1 \u001b[34m2 \u001b[32m1 \u001b[31m0 \u001b[31m0 \u001b[31m0 \u001b[31m0 \u001b[31m0 \u001b[34m2 \u001b[31m0 \u001b[34m2 \u001b[31m0 \u001b[31m0 \u001b[31m0 \u001b[31m0 \u001b[31m0 \u001b[34m2 \u001b[31m0 \u001b[34m2 \u001b[31m0 \u001b[31m0 \u001b[31m0 \u001b[31m0 \u001b[31m0 \u001b[32m1 \u001b[34m2 \u001b[32m1 \u001b[31m0 \u001b[34m2 \u001b[31m0 \u001b[34m2 \u001b[31m0 \u001b[32m1 \u001b[34m2 \u001b[32m1\n",
      "                   \u001b[32m1 \u001b[33m3 \u001b[33m3 \u001b[32m1 \u001b[34m2 \u001b[34m2 \u001b[34m2 \u001b[34m2 \u001b[32m1 \u001b[33m3 \u001b[33m3 \u001b[32m1 \u001b[31m0 \u001b[31m0 \u001b[31m0 \u001b[31m0 \u001b[34m2 \u001b[34m2 \u001b[34m2 \u001b[34m2 \u001b[31m0 \u001b[31m0 \u001b[31m0 \u001b[31m0 \u001b[34m2 \u001b[34m2 \u001b[34m2 \u001b[34m2 \u001b[31m0 \u001b[31m0 \u001b[31m0 \u001b[31m0 \u001b[32m1 \u001b[33m3 \u001b[33m3 \u001b[32m1 \u001b[34m2 \u001b[34m2 \u001b[34m2 \u001b[34m2 \u001b[32m1 \u001b[33m3 \u001b[33m3 \u001b[32m1\n",
      "                  \u001b[32m1 \u001b[31m0 \u001b[34m2 \u001b[31m0 \u001b[33m3 \u001b[31m0 \u001b[31m0 \u001b[31m0 \u001b[33m3 \u001b[31m0 \u001b[34m2 \u001b[31m0 \u001b[32m1 \u001b[31m0 \u001b[31m0 \u001b[31m0 \u001b[34m2 \u001b[31m0 \u001b[31m0 \u001b[31m0 \u001b[34m2 \u001b[31m0 \u001b[31m0 \u001b[31m0 \u001b[34m2 \u001b[31m0 \u001b[31m0 \u001b[31m0 \u001b[34m2 \u001b[31m0 \u001b[31m0 \u001b[31m0 \u001b[32m1 \u001b[31m0 \u001b[34m2 \u001b[31m0 \u001b[33m3 \u001b[31m0 \u001b[31m0 \u001b[31m0 \u001b[33m3 \u001b[31m0 \u001b[34m2 \u001b[31m0 \u001b[32m1\n",
      "                 \u001b[32m1 \u001b[32m1 \u001b[34m2 \u001b[34m2 \u001b[33m3 \u001b[33m3 \u001b[31m0 \u001b[31m0 \u001b[33m3 \u001b[33m3 \u001b[34m2 \u001b[34m2 \u001b[32m1 \u001b[32m1 \u001b[31m0 \u001b[31m0 \u001b[34m2 \u001b[34m2 \u001b[31m0 \u001b[31m0 \u001b[34m2 \u001b[34m2 \u001b[31m0 \u001b[31m0 \u001b[34m2 \u001b[34m2 \u001b[31m0 \u001b[31m0 \u001b[34m2 \u001b[34m2 \u001b[31m0 \u001b[31m0 \u001b[32m1 \u001b[32m1 \u001b[34m2 \u001b[34m2 \u001b[33m3 \u001b[33m3 \u001b[31m0 \u001b[31m0 \u001b[33m3 \u001b[33m3 \u001b[34m2 \u001b[34m2 \u001b[32m1 \u001b[32m1\n",
      "                \u001b[32m1 \u001b[34m2 \u001b[33m3 \u001b[31m0 \u001b[32m1 \u001b[34m2 \u001b[33m3 \u001b[31m0 \u001b[33m3 \u001b[34m2 \u001b[32m1 \u001b[31m0 \u001b[33m3 \u001b[34m2 \u001b[32m1 \u001b[31m0 \u001b[34m2 \u001b[31m0 \u001b[34m2 \u001b[31m0 \u001b[34m2 \u001b[31m0 \u001b[34m2 \u001b[31m0 \u001b[34m2 \u001b[31m0 \u001b[34m2 \u001b[31m0 \u001b[34m2 \u001b[31m0 \u001b[34m2 \u001b[31m0 \u001b[32m1 \u001b[34m2 \u001b[33m3 \u001b[31m0 \u001b[32m1 \u001b[34m2 \u001b[33m3 \u001b[31m0 \u001b[33m3 \u001b[34m2 \u001b[32m1 \u001b[31m0 \u001b[33m3 \u001b[34m2 \u001b[32m1\n",
      "               \u001b[32m1 \u001b[33m3 \u001b[32m1 \u001b[33m3 \u001b[32m1 \u001b[33m3 \u001b[32m1 \u001b[33m3 \u001b[33m3 \u001b[32m1 \u001b[33m3 \u001b[32m1 \u001b[33m3 \u001b[32m1 \u001b[33m3 \u001b[32m1 \u001b[34m2 \u001b[34m2 \u001b[34m2 \u001b[34m2 \u001b[34m2 \u001b[34m2 \u001b[34m2 \u001b[34m2 \u001b[34m2 \u001b[34m2 \u001b[34m2 \u001b[34m2 \u001b[34m2 \u001b[34m2 \u001b[34m2 \u001b[34m2 \u001b[32m1 \u001b[33m3 \u001b[32m1 \u001b[33m3 \u001b[32m1 \u001b[33m3 \u001b[32m1 \u001b[33m3 \u001b[33m3 \u001b[32m1 \u001b[33m3 \u001b[32m1 \u001b[33m3 \u001b[32m1 \u001b[33m3 \u001b[32m1\n"
     ]
    },
    {
     "name": "stdout",
     "output_type": "stream",
     "text": [
      "              \u001b[32m1 \u001b[31m0 \u001b[31m0 \u001b[31m0 \u001b[31m0 \u001b[31m0 \u001b[31m0 \u001b[31m0 \u001b[34m2 \u001b[31m0 \u001b[31m0 \u001b[31m0 \u001b[31m0 \u001b[31m0 \u001b[31m0 \u001b[31m0 \u001b[33m3 \u001b[31m0 \u001b[31m0 \u001b[31m0 \u001b[31m0 \u001b[31m0 \u001b[31m0 \u001b[31m0 \u001b[31m0 \u001b[31m0 \u001b[31m0 \u001b[31m0 \u001b[31m0 \u001b[31m0 \u001b[31m0 \u001b[31m0 \u001b[33m3 \u001b[31m0 \u001b[31m0 \u001b[31m0 \u001b[31m0 \u001b[31m0 \u001b[31m0 \u001b[31m0 \u001b[34m2 \u001b[31m0 \u001b[31m0 \u001b[31m0 \u001b[31m0 \u001b[31m0 \u001b[31m0 \u001b[31m0 \u001b[32m1\n",
      "             \u001b[32m1 \u001b[32m1 \u001b[31m0 \u001b[31m0 \u001b[31m0 \u001b[31m0 \u001b[31m0 \u001b[31m0 \u001b[34m2 \u001b[34m2 \u001b[31m0 \u001b[31m0 \u001b[31m0 \u001b[31m0 \u001b[31m0 \u001b[31m0 \u001b[33m3 \u001b[33m3 \u001b[31m0 \u001b[31m0 \u001b[31m0 \u001b[31m0 \u001b[31m0 \u001b[31m0 \u001b[31m0 \u001b[31m0 \u001b[31m0 \u001b[31m0 \u001b[31m0 \u001b[31m0 \u001b[31m0 \u001b[31m0 \u001b[33m3 \u001b[33m3 \u001b[31m0 \u001b[31m0 \u001b[31m0 \u001b[31m0 \u001b[31m0 \u001b[31m0 \u001b[34m2 \u001b[34m2 \u001b[31m0 \u001b[31m0 \u001b[31m0 \u001b[31m0 \u001b[31m0 \u001b[31m0 \u001b[32m1 \u001b[32m1\n",
      "            \u001b[32m1 \u001b[34m2 \u001b[32m1 \u001b[31m0 \u001b[31m0 \u001b[31m0 \u001b[31m0 \u001b[31m0 \u001b[34m2 \u001b[31m0 \u001b[34m2 \u001b[31m0 \u001b[31m0 \u001b[31m0 \u001b[31m0 \u001b[31m0 \u001b[33m3 \u001b[34m2 \u001b[33m3 \u001b[31m0 \u001b[31m0 \u001b[31m0 \u001b[31m0 \u001b[31m0 \u001b[31m0 \u001b[31m0 \u001b[31m0 \u001b[31m0 \u001b[31m0 \u001b[31m0 \u001b[31m0 \u001b[31m0 \u001b[33m3 \u001b[34m2 \u001b[33m3 \u001b[31m0 \u001b[31m0 \u001b[31m0 \u001b[31m0 \u001b[31m0 \u001b[34m2 \u001b[31m0 \u001b[34m2 \u001b[31m0 \u001b[31m0 \u001b[31m0 \u001b[31m0 \u001b[31m0 \u001b[32m1 \u001b[34m2 \u001b[32m1\n",
      "           \u001b[32m1 \u001b[33m3 \u001b[33m3 \u001b[32m1 \u001b[31m0 \u001b[31m0 \u001b[31m0 \u001b[31m0 \u001b[34m2 \u001b[34m2 \u001b[34m2 \u001b[34m2 \u001b[31m0 \u001b[31m0 \u001b[31m0 \u001b[31m0 \u001b[33m3 \u001b[32m1 \u001b[32m1 \u001b[33m3 \u001b[31m0 \u001b[31m0 \u001b[31m0 \u001b[31m0 \u001b[31m0 \u001b[31m0 \u001b[31m0 \u001b[31m0 \u001b[31m0 \u001b[31m0 \u001b[31m0 \u001b[31m0 \u001b[33m3 \u001b[32m1 \u001b[32m1 \u001b[33m3 \u001b[31m0 \u001b[31m0 \u001b[31m0 \u001b[31m0 \u001b[34m2 \u001b[34m2 \u001b[34m2 \u001b[34m2 \u001b[31m0 \u001b[31m0 \u001b[31m0 \u001b[31m0 \u001b[32m1 \u001b[33m3 \u001b[33m3 \u001b[32m1\n",
      "          \u001b[32m1 \u001b[31m0 \u001b[34m2 \u001b[31m0 \u001b[32m1 \u001b[31m0 \u001b[31m0 \u001b[31m0 \u001b[34m2 \u001b[31m0 \u001b[31m0 \u001b[31m0 \u001b[34m2 \u001b[31m0 \u001b[31m0 \u001b[31m0 \u001b[33m3 \u001b[31m0 \u001b[34m2 \u001b[31m0 \u001b[33m3 \u001b[31m0 \u001b[31m0 \u001b[31m0 \u001b[31m0 \u001b[31m0 \u001b[31m0 \u001b[31m0 \u001b[31m0 \u001b[31m0 \u001b[31m0 \u001b[31m0 \u001b[33m3 \u001b[31m0 \u001b[34m2 \u001b[31m0 \u001b[33m3 \u001b[31m0 \u001b[31m0 \u001b[31m0 \u001b[34m2 \u001b[31m0 \u001b[31m0 \u001b[31m0 \u001b[34m2 \u001b[31m0 \u001b[31m0 \u001b[31m0 \u001b[32m1 \u001b[31m0 \u001b[34m2 \u001b[31m0 \u001b[32m1\n",
      "         \u001b[32m1 \u001b[32m1 \u001b[34m2 \u001b[34m2 \u001b[32m1 \u001b[32m1 \u001b[31m0 \u001b[31m0 \u001b[34m2 \u001b[34m2 \u001b[31m0 \u001b[31m0 \u001b[34m2 \u001b[34m2 \u001b[31m0 \u001b[31m0 \u001b[33m3 \u001b[33m3 \u001b[34m2 \u001b[34m2 \u001b[33m3 \u001b[33m3 \u001b[31m0 \u001b[31m0 \u001b[31m0 \u001b[31m0 \u001b[31m0 \u001b[31m0 \u001b[31m0 \u001b[31m0 \u001b[31m0 \u001b[31m0 \u001b[33m3 \u001b[33m3 \u001b[34m2 \u001b[34m2 \u001b[33m3 \u001b[33m3 \u001b[31m0 \u001b[31m0 \u001b[34m2 \u001b[34m2 \u001b[31m0 \u001b[31m0 \u001b[34m2 \u001b[34m2 \u001b[31m0 \u001b[31m0 \u001b[32m1 \u001b[32m1 \u001b[34m2 \u001b[34m2 \u001b[32m1 \u001b[32m1\n",
      "        \u001b[32m1 \u001b[34m2 \u001b[33m3 \u001b[31m0 \u001b[33m3 \u001b[34m2 \u001b[32m1 \u001b[31m0 \u001b[34m2 \u001b[31m0 \u001b[34m2 \u001b[31m0 \u001b[34m2 \u001b[31m0 \u001b[34m2 \u001b[31m0 \u001b[33m3 \u001b[34m2 \u001b[32m1 \u001b[31m0 \u001b[32m1 \u001b[34m2 \u001b[33m3 \u001b[31m0 \u001b[31m0 \u001b[31m0 \u001b[31m0 \u001b[31m0 \u001b[31m0 \u001b[31m0 \u001b[31m0 \u001b[31m0 \u001b[33m3 \u001b[34m2 \u001b[32m1 \u001b[31m0 \u001b[32m1 \u001b[34m2 \u001b[33m3 \u001b[31m0 \u001b[34m2 \u001b[31m0 \u001b[34m2 \u001b[31m0 \u001b[34m2 \u001b[31m0 \u001b[34m2 \u001b[31m0 \u001b[32m1 \u001b[34m2 \u001b[33m3 \u001b[31m0 \u001b[33m3 \u001b[34m2 \u001b[32m1\n",
      "       \u001b[32m1 \u001b[33m3 \u001b[32m1 \u001b[33m3 \u001b[33m3 \u001b[32m1 \u001b[33m3 \u001b[32m1 \u001b[34m2 \u001b[34m2 \u001b[34m2 \u001b[34m2 \u001b[34m2 \u001b[34m2 \u001b[34m2 \u001b[34m2 \u001b[33m3 \u001b[32m1 \u001b[33m3 \u001b[32m1 \u001b[32m1 \u001b[33m3 \u001b[32m1 \u001b[33m3 \u001b[31m0 \u001b[31m0 \u001b[31m0 \u001b[31m0 \u001b[31m0 \u001b[31m0 \u001b[31m0 \u001b[31m0 \u001b[33m3 \u001b[32m1 \u001b[33m3 \u001b[32m1 \u001b[32m1 \u001b[33m3 \u001b[32m1 \u001b[33m3 \u001b[34m2 \u001b[34m2 \u001b[34m2 \u001b[34m2 \u001b[34m2 \u001b[34m2 \u001b[34m2 \u001b[34m2 \u001b[32m1 \u001b[33m3 \u001b[32m1 \u001b[33m3 \u001b[33m3 \u001b[32m1 \u001b[33m3 \u001b[32m1\n",
      "      \u001b[32m1 \u001b[31m0 \u001b[31m0 \u001b[31m0 \u001b[34m2 \u001b[31m0 \u001b[31m0 \u001b[31m0 \u001b[33m3 \u001b[31m0 \u001b[31m0 \u001b[31m0 \u001b[31m0 \u001b[31m0 \u001b[31m0 \u001b[31m0 \u001b[32m1 \u001b[31m0 \u001b[31m0 \u001b[31m0 \u001b[34m2 \u001b[31m0 \u001b[31m0 \u001b[31m0 \u001b[33m3 \u001b[31m0 \u001b[31m0 \u001b[31m0 \u001b[31m0 \u001b[31m0 \u001b[31m0 \u001b[31m0 \u001b[33m3 \u001b[31m0 \u001b[31m0 \u001b[31m0 \u001b[34m2 \u001b[31m0 \u001b[31m0 \u001b[31m0 \u001b[32m1 \u001b[31m0 \u001b[31m0 \u001b[31m0 \u001b[31m0 \u001b[31m0 \u001b[31m0 \u001b[31m0 \u001b[33m3 \u001b[31m0 \u001b[31m0 \u001b[31m0 \u001b[34m2 \u001b[31m0 \u001b[31m0 \u001b[31m0 \u001b[32m1\n",
      "     \u001b[32m1 \u001b[32m1 \u001b[31m0 \u001b[31m0 \u001b[34m2 \u001b[34m2 \u001b[31m0 \u001b[31m0 \u001b[33m3 \u001b[33m3 \u001b[31m0 \u001b[31m0 \u001b[31m0 \u001b[31m0 \u001b[31m0 \u001b[31m0 \u001b[32m1 \u001b[32m1 \u001b[31m0 \u001b[31m0 \u001b[34m2 \u001b[34m2 \u001b[31m0 \u001b[31m0 \u001b[33m3 \u001b[33m3 \u001b[31m0 \u001b[31m0 \u001b[31m0 \u001b[31m0 \u001b[31m0 \u001b[31m0 \u001b[33m3 \u001b[33m3 \u001b[31m0 \u001b[31m0 \u001b[34m2 \u001b[34m2 \u001b[31m0 \u001b[31m0 \u001b[32m1 \u001b[32m1 \u001b[31m0 \u001b[31m0 \u001b[31m0 \u001b[31m0 \u001b[31m0 \u001b[31m0 \u001b[33m3 \u001b[33m3 \u001b[31m0 \u001b[31m0 \u001b[34m2 \u001b[34m2 \u001b[31m0 \u001b[31m0 \u001b[32m1 \u001b[32m1\n",
      "    \u001b[32m1 \u001b[34m2 \u001b[32m1 \u001b[31m0 \u001b[34m2 \u001b[31m0 \u001b[34m2 \u001b[31m0 \u001b[33m3 \u001b[34m2 \u001b[33m3 \u001b[31m0 \u001b[31m0 \u001b[31m0 \u001b[31m0 \u001b[31m0 \u001b[32m1 \u001b[34m2 \u001b[32m1 \u001b[31m0 \u001b[34m2 \u001b[31m0 \u001b[34m2 \u001b[31m0 \u001b[33m3 \u001b[34m2 \u001b[33m3 \u001b[31m0 \u001b[31m0 \u001b[31m0 \u001b[31m0 \u001b[31m0 \u001b[33m3 \u001b[34m2 \u001b[33m3 \u001b[31m0 \u001b[34m2 \u001b[31m0 \u001b[34m2 \u001b[31m0 \u001b[32m1 \u001b[34m2 \u001b[32m1 \u001b[31m0 \u001b[31m0 \u001b[31m0 \u001b[31m0 \u001b[31m0 \u001b[33m3 \u001b[34m2 \u001b[33m3 \u001b[31m0 \u001b[34m2 \u001b[31m0 \u001b[34m2 \u001b[31m0 \u001b[32m1 \u001b[34m2 \u001b[32m1\n",
      "   \u001b[32m1 \u001b[33m3 \u001b[33m3 \u001b[32m1 \u001b[34m2 \u001b[34m2 \u001b[34m2 \u001b[34m2 \u001b[33m3 \u001b[32m1 \u001b[32m1 \u001b[33m3 \u001b[31m0 \u001b[31m0 \u001b[31m0 \u001b[31m0 \u001b[32m1 \u001b[33m3 \u001b[33m3 \u001b[32m1 \u001b[34m2 \u001b[34m2 \u001b[34m2 \u001b[34m2 \u001b[33m3 \u001b[32m1 \u001b[32m1 \u001b[33m3 \u001b[31m0 \u001b[31m0 \u001b[31m0 \u001b[31m0 \u001b[33m3 \u001b[32m1 \u001b[32m1 \u001b[33m3 \u001b[34m2 \u001b[34m2 \u001b[34m2 \u001b[34m2 \u001b[32m1 \u001b[33m3 \u001b[33m3 \u001b[32m1 \u001b[31m0 \u001b[31m0 \u001b[31m0 \u001b[31m0 \u001b[33m3 \u001b[32m1 \u001b[32m1 \u001b[33m3 \u001b[34m2 \u001b[34m2 \u001b[34m2 \u001b[34m2 \u001b[32m1 \u001b[33m3 \u001b[33m3 \u001b[32m1\n",
      "  \u001b[32m1 \u001b[31m0 \u001b[34m2 \u001b[31m0 \u001b[33m3 \u001b[31m0 \u001b[31m0 \u001b[31m0 \u001b[32m1 \u001b[31m0 \u001b[34m2 \u001b[31m0 \u001b[33m3 \u001b[31m0 \u001b[31m0 \u001b[31m0 \u001b[32m1 \u001b[31m0 \u001b[34m2 \u001b[31m0 \u001b[33m3 \u001b[31m0 \u001b[31m0 \u001b[31m0 \u001b[32m1 \u001b[31m0 \u001b[34m2 \u001b[31m0 \u001b[33m3 \u001b[31m0 \u001b[31m0 \u001b[31m0 \u001b[33m3 \u001b[31m0 \u001b[34m2 \u001b[31m0 \u001b[32m1 \u001b[31m0 \u001b[31m0 \u001b[31m0 \u001b[33m3 \u001b[31m0 \u001b[34m2 \u001b[31m0 \u001b[32m1 \u001b[31m0 \u001b[31m0 \u001b[31m0 \u001b[33m3 \u001b[31m0 \u001b[34m2 \u001b[31m0 \u001b[32m1 \u001b[31m0 \u001b[31m0 \u001b[31m0 \u001b[33m3 \u001b[31m0 \u001b[34m2 \u001b[31m0 \u001b[32m1\n"
     ]
    }
   ],
   "source": [
    "n = 60\n",
    "mod = 4\n",
    "\n",
    "def binom(n,k):\n",
    "    a = 1\n",
    "    for i in range(k):\n",
    "        a = a*(n-i)//(i+1)        \n",
    "    return a\n",
    "\n",
    "def symb(u):\n",
    "    if u==0:\n",
    "        return \"\\u001b[31m0\"\n",
    "    elif u ==1:\n",
    "        return \"\\u001b[32m1\"\n",
    "    elif u == 2:\n",
    "        return \"\\u001b[34m2\"\n",
    "    else:\n",
    "        return \"\\u001b[33m3\"\n",
    "\n",
    "for i in range(n+1):\n",
    "    for j in range(0, n-i+1):\n",
    "        print(' ', end='') \n",
    "    for j in range(i+1):\n",
    "        u = binom(i,j) % mod\n",
    "        s = symb(u)\n",
    "        print(' ', s, sep='', end='') \n",
    "    print('')"
   ]
  },
  {
   "cell_type": "code",
   "execution_count": null,
   "id": "486f86f4",
   "metadata": {},
   "outputs": [],
   "source": []
  }
 ],
 "metadata": {
  "kernelspec": {
   "display_name": "Python 3 (ipykernel)",
   "language": "python",
   "name": "python3"
  },
  "language_info": {
   "codemirror_mode": {
    "name": "ipython",
    "version": 3
   },
   "file_extension": ".py",
   "mimetype": "text/x-python",
   "name": "python",
   "nbconvert_exporter": "python",
   "pygments_lexer": "ipython3",
   "version": "3.9.12"
  }
 },
 "nbformat": 4,
 "nbformat_minor": 5
}
